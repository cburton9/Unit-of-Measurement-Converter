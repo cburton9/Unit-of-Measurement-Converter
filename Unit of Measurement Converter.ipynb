{
 "cells": [
  {
   "cell_type": "markdown",
   "id": "645c20ba-85f1-4fbe-9436-7284e0725b38",
   "metadata": {},
   "source": [
    "## Unit of Measurement Converter"
   ]
  },
  {
   "cell_type": "code",
   "execution_count": 33,
   "id": "0320b961-e494-4e13-a88b-0947fdc33e01",
   "metadata": {},
   "outputs": [
    {
     "name": "stdin",
     "output_type": "stream",
     "text": [
      "Enter Starting Unit of Measurement(inches, feet, yards): feet\n",
      "Enter Unit of Measurement to Convert to(inches, feet, yards): yard\n",
      "Enter Starting Measurment in Inches: 2\n",
      "Enter Starting Measurment in Yards: 1\n",
      "Enter Starting Measurment in Feet: 1\n",
      "Enter Starting Measurment in Miles: \n",
      "Enter Starting Measurment in Meters: 1\n",
      "Enter Starting Measurment in KiloMeters: \n",
      "Enter Starting Measurment in CentiMeters: 1\n",
      "Enter Starting Measurment in MilliMeter: 1\n",
      "Enter Starting Measurment in MicroMeter: 1\n",
      "Enter Starting Measurment in NanoMeter: \n"
     ]
    }
   ],
   "source": [
    "\n",
    "\n",
    "convert_from = input(\"Enter Starting Unit of Measurement(inches, feet, yards):\")\n",
    "\n",
    "convert_to = input(\"Enter Unit of Measurement to Convert to(inches, feet, yards):\")\n",
    "\n",
    "number_of_inches = input(\"Enter Starting Measurment in Inches:\")\n",
    "\n",
    "number_of_Yards = input(\"Enter Starting Measurment in Yards:\")\n",
    "\n",
    "number_of_Feet= input(\"Enter Starting Measurment in Feet:\")\n",
    "\n",
    "number_of_Miles= input(\"Enter Starting Measurment in Miles:\")\n",
    "\n",
    "number_of_Meters= input(\"Enter Starting Measurment in Meters:\")\n",
    "\n",
    "number_of_KiloMeters= input(\"Enter Starting Measurment in KiloMeters:\")\n",
    "\n",
    "number_of_CentiMeters= input(\"Enter Starting Measurment in CentiMeters:\")\n",
    "\n",
    "number_of_MilliMeter= input(\"Enter Starting Measurment in MilliMeter:\")\n",
    "\n",
    "number_of_MicroMeter= input(\"Enter Starting Measurment in MicroMeter:\")\n",
    "\n",
    "number_of_NanoMeter= input(\"Enter Starting Measurment in NanoMeter:\")"
   ]
  },
  {
   "cell_type": "code",
   "execution_count": 55,
   "id": "cba93bc7-0f9f-415f-8004-a48a86e25ac3",
   "metadata": {},
   "outputs": [
    {
     "name": "stdin",
     "output_type": "stream",
     "text": [
      "Enter Starting Unit of Measurement(inches, feet, yards): feet\n",
      "Enter Unit of Measurement to Convert to(inches, feet, yards): yards\n",
      "Enter Starting Measurment in Feet: 5\n"
     ]
    },
    {
     "name": "stdout",
     "output_type": "stream",
     "text": [
      "Result: 5 Feet = 1.67 Yards\n"
     ]
    }
   ],
   "source": [
    "convert_from = input(\"Enter Starting Unit of Measurement(inches, feet, yards):\")\n",
    "\n",
    "convert_to = input(\"Enter Unit of Measurement to Convert to(inches, feet, yards):\")\n",
    "\n",
    "if convert_from.lower() in[\"inches\",\"in\",\"inch\"]:\n",
    "    number_of_inches = int(input(\"Enter Starting Measurment in Inches:\"))\n",
    "    if convert_to.lower() in [\"feet\",\"foot\",\"ft\"]:\n",
    "        print(\"Result: \" + str(number_of_inches)+ \" Inches = \" + str(round(number_of_inches / 12,2 )) + \" Feet\")\n",
    "    elif convert_to.lower() in [\"yards\",\"yard\",\"yds\",\"yd\",\"yrds\",\"yrd\"]:\n",
    "        print(\"Result: \" + str(number_of_inches)+ \" Inches = \" + str(round(number_of_inches / 36,2 )) + \" Yards\" )\n",
    "    else:\n",
    "        print(\"Please Enter either Inches, Feet, or Yards\")\n",
    "        \n",
    "elif convert_from.lower() in [\"feet\",\"foot\",\"ft\"]:\n",
    "    number_of_Feet = int(input(\"Enter Starting Measurment in Feet:\"))\n",
    "    if convert_to.lower() in[\"inches\",\"in\",\"inch\"]:\n",
    "        print(\"Result: \" + str(number_of_Feet)+ \" Feet = \" + str(round(number_of_Feet * 12 )) + \" Inches\")\n",
    "    elif convert_to.lower() in [\"yards\",\"yard\",\"yds\",\"yd\",\"yrds\",\"yrd\"]:\n",
    "        print(\"Result: \" + str(number_of_Feet)+ \" Feet = \" + str(round(number_of_Feet / 3,2 )) + \" Yards\")\n",
    "    else:\n",
    "        print(\"Please Enter either Inches, Feet, or Yards\")\n",
    "\n",
    "elif convert_from.lower() in [\"yards\",\"yard\",\"yds\",\"yd\",\"yrds\",\"yrd\"]:\n",
    "    number_of_Yards = int(input(\"Enter Starting Measurment in Yards:\"))\n",
    "    if convert_to.lower() in[\"inches\",\"in\",\"inch\"]:\n",
    "         print(\"Result: \" + str(number_of_Yards)+ \" Yards = \" + str(round(number_of_Yards * 36 )) + \" Inches\")\n",
    "    elif convert_to.lower() in [\"feet\",\"foot\",\"ft\"]:\n",
    "        Print(\"Result: \" + str(number_of_Yards)+ \" Yards = \" + str(round(number_of_Yards * 3 )) + \" Feet\")\n",
    "    else:\n",
    "        print(\"Please Enter either Inches, Feet, or Yards\")\n",
    "\n",
    "else: \n",
    "    print(\"Please Enter either Inches, Feet, or Yards.\")\n",
    "    "
   ]
  },
  {
   "cell_type": "code",
   "execution_count": null,
   "id": "a5a74bff-2a2b-496c-b5c4-2d932e91528d",
   "metadata": {},
   "outputs": [],
   "source": []
  },
  {
   "cell_type": "code",
   "execution_count": null,
   "id": "63cd987f-9adb-4130-ac8c-1e4cf6d7d86c",
   "metadata": {},
   "outputs": [],
   "source": []
  },
  {
   "cell_type": "code",
   "execution_count": null,
   "id": "b92f7ee6-923b-451a-b7ae-7226069ed80a",
   "metadata": {},
   "outputs": [],
   "source": []
  },
  {
   "cell_type": "code",
   "execution_count": null,
   "id": "1e953aeb-0ef2-4a9f-b5e4-1529d318562f",
   "metadata": {},
   "outputs": [],
   "source": []
  },
  {
   "cell_type": "code",
   "execution_count": null,
   "id": "6701c2f3-9e90-46a1-b6d7-121e92a3a50d",
   "metadata": {},
   "outputs": [],
   "source": []
  },
  {
   "cell_type": "code",
   "execution_count": null,
   "id": "822e9e77-5c2d-408a-9141-83ab4d34596e",
   "metadata": {},
   "outputs": [],
   "source": []
  },
  {
   "cell_type": "code",
   "execution_count": null,
   "id": "4ded8bba-fd2c-410e-b249-5994d8037bcb",
   "metadata": {},
   "outputs": [],
   "source": []
  },
  {
   "cell_type": "code",
   "execution_count": null,
   "id": "c2f138a8-a5fc-431b-8c5f-9307036cab86",
   "metadata": {},
   "outputs": [],
   "source": []
  },
  {
   "cell_type": "code",
   "execution_count": null,
   "id": "26fd05de-3a2b-484f-ac6b-a9a5d4980ed3",
   "metadata": {},
   "outputs": [],
   "source": []
  },
  {
   "cell_type": "code",
   "execution_count": null,
   "id": "a0a20c25-c1fe-422b-8b85-5097942b8038",
   "metadata": {},
   "outputs": [],
   "source": []
  },
  {
   "cell_type": "code",
   "execution_count": null,
   "id": "371d88a5-abd3-46d7-ba6e-e90b2f44b745",
   "metadata": {},
   "outputs": [],
   "source": []
  },
  {
   "cell_type": "code",
   "execution_count": null,
   "id": "a07e2cb2-652e-4512-b563-53ac3bc24b06",
   "metadata": {},
   "outputs": [],
   "source": []
  },
  {
   "cell_type": "code",
   "execution_count": null,
   "id": "68adc57b-97a4-4228-b6c8-fa396f8e53f6",
   "metadata": {},
   "outputs": [],
   "source": []
  },
  {
   "cell_type": "code",
   "execution_count": null,
   "id": "a5a3de29-8e1a-40d6-8192-fb8cd0980565",
   "metadata": {},
   "outputs": [],
   "source": []
  },
  {
   "cell_type": "code",
   "execution_count": null,
   "id": "7dde8bb8-0d75-447a-a461-6cf1d341deba",
   "metadata": {},
   "outputs": [],
   "source": []
  },
  {
   "cell_type": "code",
   "execution_count": null,
   "id": "3d800250-9ebf-40f5-bbd7-d9096237f594",
   "metadata": {},
   "outputs": [],
   "source": []
  },
  {
   "cell_type": "code",
   "execution_count": null,
   "id": "0f8ff049-13cb-4a64-912a-0356305a506e",
   "metadata": {},
   "outputs": [],
   "source": []
  },
  {
   "cell_type": "code",
   "execution_count": null,
   "id": "237a8eea-db64-4ca5-ab5b-deac0b5f7bee",
   "metadata": {},
   "outputs": [],
   "source": []
  },
  {
   "cell_type": "code",
   "execution_count": null,
   "id": "716ed7b6-fc88-4f39-90dc-57d1cd87a6e8",
   "metadata": {},
   "outputs": [],
   "source": []
  },
  {
   "cell_type": "code",
   "execution_count": null,
   "id": "6913d4ef-8c7e-4560-8136-0dc16256cb83",
   "metadata": {},
   "outputs": [],
   "source": []
  },
  {
   "cell_type": "code",
   "execution_count": null,
   "id": "0a0fef4a-bb37-4ad0-b6ea-c54f514065ce",
   "metadata": {},
   "outputs": [],
   "source": []
  },
  {
   "cell_type": "code",
   "execution_count": null,
   "id": "9d59d83b-ebb4-4fab-bf74-9da41844db85",
   "metadata": {},
   "outputs": [],
   "source": []
  },
  {
   "cell_type": "code",
   "execution_count": null,
   "id": "49d759c0-0f1e-40cd-8c9d-c467af302786",
   "metadata": {},
   "outputs": [],
   "source": []
  },
  {
   "cell_type": "code",
   "execution_count": null,
   "id": "9a64ab60-52b1-41f5-9b3e-5eee6db2a069",
   "metadata": {},
   "outputs": [],
   "source": []
  },
  {
   "cell_type": "code",
   "execution_count": null,
   "id": "c1319652-ccf3-4814-8ad8-9036459a44f2",
   "metadata": {},
   "outputs": [],
   "source": []
  },
  {
   "cell_type": "code",
   "execution_count": null,
   "id": "60efb019-23ca-4c3b-860f-2237a896dc8c",
   "metadata": {},
   "outputs": [],
   "source": []
  },
  {
   "cell_type": "code",
   "execution_count": null,
   "id": "a6680704-794c-44da-af6b-f88f9de7124e",
   "metadata": {},
   "outputs": [],
   "source": []
  },
  {
   "cell_type": "code",
   "execution_count": null,
   "id": "e27dbc70-a790-4d45-b87a-7dfe953fd6fa",
   "metadata": {},
   "outputs": [],
   "source": []
  },
  {
   "cell_type": "code",
   "execution_count": null,
   "id": "5ac49e07-1de9-4321-904d-012274978482",
   "metadata": {},
   "outputs": [],
   "source": []
  },
  {
   "cell_type": "code",
   "execution_count": null,
   "id": "c0ee0c7b-7dd9-43b3-9043-20ba6e9993f5",
   "metadata": {},
   "outputs": [],
   "source": []
  },
  {
   "cell_type": "code",
   "execution_count": null,
   "id": "1a2a9778-b3c1-45ca-9177-21f07eb7ed87",
   "metadata": {},
   "outputs": [],
   "source": []
  },
  {
   "cell_type": "code",
   "execution_count": null,
   "id": "df4c02f3-b516-4940-b1bf-626dab47abfd",
   "metadata": {},
   "outputs": [],
   "source": []
  },
  {
   "cell_type": "code",
   "execution_count": null,
   "id": "e6663f71-81ce-4b05-ac81-894d46ac74cd",
   "metadata": {},
   "outputs": [],
   "source": []
  },
  {
   "cell_type": "code",
   "execution_count": null,
   "id": "6fd1e202-4b6b-41d2-a2c6-77463c050546",
   "metadata": {},
   "outputs": [],
   "source": []
  },
  {
   "cell_type": "code",
   "execution_count": null,
   "id": "f1033913-4884-4c0b-b4e2-788daddf6fed",
   "metadata": {},
   "outputs": [],
   "source": []
  },
  {
   "cell_type": "code",
   "execution_count": null,
   "id": "c26925ff-d032-412c-9e96-116f55debfc1",
   "metadata": {},
   "outputs": [],
   "source": []
  },
  {
   "cell_type": "code",
   "execution_count": null,
   "id": "f5cc094f-e18b-4565-a3b6-6d0b51aa0749",
   "metadata": {},
   "outputs": [],
   "source": []
  }
 ],
 "metadata": {
  "kernelspec": {
   "display_name": "Python 3 (ipykernel)",
   "language": "python",
   "name": "python3"
  },
  "language_info": {
   "codemirror_mode": {
    "name": "ipython",
    "version": 3
   },
   "file_extension": ".py",
   "mimetype": "text/x-python",
   "name": "python",
   "nbconvert_exporter": "python",
   "pygments_lexer": "ipython3",
   "version": "3.11.7"
  }
 },
 "nbformat": 4,
 "nbformat_minor": 5
}
